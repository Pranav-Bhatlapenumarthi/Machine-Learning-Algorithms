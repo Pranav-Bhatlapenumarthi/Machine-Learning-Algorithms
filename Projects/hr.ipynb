{
 "cells": [
  {
   "cell_type": "code",
   "execution_count": null,
   "id": "9437d6e4",
   "metadata": {},
   "outputs": [],
   "source": [
    "import numpy as np\n",
    "import pandas as pd\n",
    "import seaborn as sns\n",
    "import matplotlib.pyplot as plt"
   ]
  },
  {
   "cell_type": "code",
   "execution_count": null,
   "id": "ba922421",
   "metadata": {},
   "outputs": [],
   "source": [
    "# Loading the dataset\n",
    "df = pd.read_csv(\"WA_Fn-UseC_-HR-Employee-Attrition.csv\")\n",
    "df.head()"
   ]
  },
  {
   "cell_type": "code",
   "execution_count": null,
   "id": "2c715be0",
   "metadata": {},
   "outputs": [],
   "source": [
    "pd.options.display.float_format = '{:,.2f}'.format\n",
    "pd.set_option('display.max_columns', 500)\n",
    "pd.set_option('display.width', 1000)\n",
    "df.describe()"
   ]
  },
  {
   "cell_type": "code",
   "execution_count": null,
   "id": "36045a34",
   "metadata": {},
   "outputs": [],
   "source": [
    "print(\"The dimensions of the data are:\", df.shape[0], \"rows and\", df.shape[1], \"columns\") # Displaying the dimensions of the dataset\n",
    "print(\"Insights: This indicates that the dataset has\", df.shape[0], \"datapoints and\", df.shape[1], \"features.\")\n",
    "\n",
    "print(df.info()) # Gives the datatype of values in each column"
   ]
  },
  {
   "cell_type": "code",
   "execution_count": null,
   "id": "5153d23b",
   "metadata": {},
   "outputs": [],
   "source": [
    "print(df.isnull().any()) # returns True if there are any null values in the dataset wrt a specific feature, else returns False"
   ]
  },
  {
   "cell_type": "code",
   "execution_count": null,
   "id": "ab04c902",
   "metadata": {},
   "outputs": [],
   "source": [
    "\n",
    "print(df.iloc[0]) # Displays the values of the first row of the dataset"
   ]
  }
 ],
 "metadata": {
  "kernelspec": {
   "display_name": "Python 3",
   "language": "python",
   "name": "python3"
  },
  "language_info": {
   "codemirror_mode": {
    "name": "ipython",
    "version": 3
   },
   "file_extension": ".py",
   "mimetype": "text/x-python",
   "name": "python",
   "nbconvert_exporter": "python",
   "pygments_lexer": "ipython3",
   "version": "3.11.9"
  }
 },
 "nbformat": 4,
 "nbformat_minor": 5
}
